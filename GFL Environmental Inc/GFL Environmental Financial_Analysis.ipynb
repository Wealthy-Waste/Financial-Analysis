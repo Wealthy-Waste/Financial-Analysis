{
 "cells": [
  {
   "cell_type": "markdown",
   "metadata": {},
   "source": [
    "## GFL Environmental\n",
    "GFL Environmental Inc. is a leading North American provider of diversified environmental solutions.GFL is the only major diversified environmental services company in North America offering services in solid waste management, liquid waste management and infrastructure development."
   ]
  },
  {
   "cell_type": "code",
   "execution_count": 2,
   "metadata": {},
   "outputs": [],
   "source": [
    "#Importing Libraries\n",
    "import datetime as dt\n",
    "import pandas as pd\n",
    "pd.core.common.is_list_like = pd.api.types.is_list_like\n",
    "import pandas_datareader.data as pdr\n",
    "import numpy as np\n",
    "import matplotlib.pyplot as plt\n",
    "import seaborn as sns\n",
    "from mpl_finance import candlestick_ohlc\n",
    "import matplotlib.dates as mdates"
   ]
  },
  {
   "cell_type": "code",
   "execution_count": 2,
   "metadata": {},
   "outputs": [],
   "source": [
    "#GFL\n",
    "#Getting stock price data\n",
    "start = dt.datetime(2000, 1, 1)\n",
    "end = dt.datetime.now()\n",
    "df = pdr.DataReader(\"GFL.TO\", 'yahoo', start, end)  # Collects data\n",
    "df.reset_index(inplace=True)\n",
    "df.set_index(\"Date\", inplace=True)"
   ]
  },
  {
   "cell_type": "code",
   "execution_count": 3,
   "metadata": {},
   "outputs": [
    {
     "data": {
      "text/html": [
       "<div>\n",
       "<style scoped>\n",
       "    .dataframe tbody tr th:only-of-type {\n",
       "        vertical-align: middle;\n",
       "    }\n",
       "\n",
       "    .dataframe tbody tr th {\n",
       "        vertical-align: top;\n",
       "    }\n",
       "\n",
       "    .dataframe thead th {\n",
       "        text-align: right;\n",
       "    }\n",
       "</style>\n",
       "<table border=\"1\" class=\"dataframe\">\n",
       "  <thead>\n",
       "    <tr style=\"text-align: right;\">\n",
       "      <th></th>\n",
       "      <th>High</th>\n",
       "      <th>Low</th>\n",
       "      <th>Open</th>\n",
       "      <th>Close</th>\n",
       "      <th>Volume</th>\n",
       "      <th>Adj Close</th>\n",
       "    </tr>\n",
       "    <tr>\n",
       "      <th>Date</th>\n",
       "      <th></th>\n",
       "      <th></th>\n",
       "      <th></th>\n",
       "      <th></th>\n",
       "      <th></th>\n",
       "      <th></th>\n",
       "    </tr>\n",
       "  </thead>\n",
       "  <tbody>\n",
       "    <tr>\n",
       "      <th>2020-03-03</th>\n",
       "      <td>24.010000</td>\n",
       "      <td>22.400000</td>\n",
       "      <td>23.370001</td>\n",
       "      <td>22.400000</td>\n",
       "      <td>403100.0</td>\n",
       "      <td>22.373423</td>\n",
       "    </tr>\n",
       "    <tr>\n",
       "      <th>2020-03-04</th>\n",
       "      <td>23.950001</td>\n",
       "      <td>23.010000</td>\n",
       "      <td>23.250000</td>\n",
       "      <td>23.290001</td>\n",
       "      <td>175400.0</td>\n",
       "      <td>23.262369</td>\n",
       "    </tr>\n",
       "    <tr>\n",
       "      <th>2020-03-05</th>\n",
       "      <td>23.820000</td>\n",
       "      <td>23.049999</td>\n",
       "      <td>23.820000</td>\n",
       "      <td>23.490000</td>\n",
       "      <td>164300.0</td>\n",
       "      <td>23.462130</td>\n",
       "    </tr>\n",
       "    <tr>\n",
       "      <th>2020-03-06</th>\n",
       "      <td>23.100000</td>\n",
       "      <td>21.830000</td>\n",
       "      <td>23.030001</td>\n",
       "      <td>22.980000</td>\n",
       "      <td>194000.0</td>\n",
       "      <td>22.952734</td>\n",
       "    </tr>\n",
       "    <tr>\n",
       "      <th>2020-03-09</th>\n",
       "      <td>22.219999</td>\n",
       "      <td>20.400000</td>\n",
       "      <td>21.740000</td>\n",
       "      <td>22.040001</td>\n",
       "      <td>64000.0</td>\n",
       "      <td>22.013853</td>\n",
       "    </tr>\n",
       "  </tbody>\n",
       "</table>\n",
       "</div>"
      ],
      "text/plain": [
       "                 High        Low       Open      Close    Volume  Adj Close\n",
       "Date                                                                       \n",
       "2020-03-03  24.010000  22.400000  23.370001  22.400000  403100.0  22.373423\n",
       "2020-03-04  23.950001  23.010000  23.250000  23.290001  175400.0  23.262369\n",
       "2020-03-05  23.820000  23.049999  23.820000  23.490000  164300.0  23.462130\n",
       "2020-03-06  23.100000  21.830000  23.030001  22.980000  194000.0  22.952734\n",
       "2020-03-09  22.219999  20.400000  21.740000  22.040001   64000.0  22.013853"
      ]
     },
     "execution_count": 3,
     "metadata": {},
     "output_type": "execute_result"
    }
   ],
   "source": [
    "df.head()"
   ]
  },
  {
   "cell_type": "code",
   "execution_count": 4,
   "metadata": {},
   "outputs": [
    {
     "data": {
      "text/html": [
       "<div>\n",
       "<style scoped>\n",
       "    .dataframe tbody tr th:only-of-type {\n",
       "        vertical-align: middle;\n",
       "    }\n",
       "\n",
       "    .dataframe tbody tr th {\n",
       "        vertical-align: top;\n",
       "    }\n",
       "\n",
       "    .dataframe thead th {\n",
       "        text-align: right;\n",
       "    }\n",
       "</style>\n",
       "<table border=\"1\" class=\"dataframe\">\n",
       "  <thead>\n",
       "    <tr style=\"text-align: right;\">\n",
       "      <th></th>\n",
       "      <th>High</th>\n",
       "      <th>Low</th>\n",
       "      <th>Open</th>\n",
       "      <th>Close</th>\n",
       "      <th>Volume</th>\n",
       "      <th>Adj Close</th>\n",
       "    </tr>\n",
       "    <tr>\n",
       "      <th>Date</th>\n",
       "      <th></th>\n",
       "      <th></th>\n",
       "      <th></th>\n",
       "      <th></th>\n",
       "      <th></th>\n",
       "      <th></th>\n",
       "    </tr>\n",
       "  </thead>\n",
       "  <tbody>\n",
       "    <tr>\n",
       "      <th>2020-07-21</th>\n",
       "      <td>26.990000</td>\n",
       "      <td>26.170000</td>\n",
       "      <td>26.990000</td>\n",
       "      <td>26.450001</td>\n",
       "      <td>64400.0</td>\n",
       "      <td>26.450001</td>\n",
       "    </tr>\n",
       "    <tr>\n",
       "      <th>2020-07-22</th>\n",
       "      <td>26.920000</td>\n",
       "      <td>26.139999</td>\n",
       "      <td>26.139999</td>\n",
       "      <td>26.549999</td>\n",
       "      <td>195200.0</td>\n",
       "      <td>26.549999</td>\n",
       "    </tr>\n",
       "    <tr>\n",
       "      <th>2020-07-23</th>\n",
       "      <td>27.469999</td>\n",
       "      <td>26.639999</td>\n",
       "      <td>26.799999</td>\n",
       "      <td>27.010000</td>\n",
       "      <td>92500.0</td>\n",
       "      <td>27.010000</td>\n",
       "    </tr>\n",
       "    <tr>\n",
       "      <th>2020-07-24</th>\n",
       "      <td>27.990000</td>\n",
       "      <td>27.290001</td>\n",
       "      <td>27.290001</td>\n",
       "      <td>27.760000</td>\n",
       "      <td>159600.0</td>\n",
       "      <td>27.760000</td>\n",
       "    </tr>\n",
       "    <tr>\n",
       "      <th>2020-07-27</th>\n",
       "      <td>28.330000</td>\n",
       "      <td>27.540001</td>\n",
       "      <td>27.799999</td>\n",
       "      <td>28.299999</td>\n",
       "      <td>98700.0</td>\n",
       "      <td>28.299999</td>\n",
       "    </tr>\n",
       "  </tbody>\n",
       "</table>\n",
       "</div>"
      ],
      "text/plain": [
       "                 High        Low       Open      Close    Volume  Adj Close\n",
       "Date                                                                       \n",
       "2020-07-21  26.990000  26.170000  26.990000  26.450001   64400.0  26.450001\n",
       "2020-07-22  26.920000  26.139999  26.139999  26.549999  195200.0  26.549999\n",
       "2020-07-23  27.469999  26.639999  26.799999  27.010000   92500.0  27.010000\n",
       "2020-07-24  27.990000  27.290001  27.290001  27.760000  159600.0  27.760000\n",
       "2020-07-27  28.330000  27.540001  27.799999  28.299999   98700.0  28.299999"
      ]
     },
     "execution_count": 4,
     "metadata": {},
     "output_type": "execute_result"
    }
   ],
   "source": [
    "df.tail()"
   ]
  },
  {
   "cell_type": "code",
   "execution_count": 5,
   "metadata": {},
   "outputs": [],
   "source": [
    "#Making the data as csv\n",
    "df.to_csv(\"GFLdata.csv\")"
   ]
  },
  {
   "cell_type": "code",
   "execution_count": 6,
   "metadata": {},
   "outputs": [],
   "source": [
    "##Reading the same data from local csv file\n",
    "data=pd.read_csv(\"GFLdata.csv\" ,parse_dates=True, index_col=0)"
   ]
  },
  {
   "cell_type": "code",
   "execution_count": 7,
   "metadata": {},
   "outputs": [
    {
     "data": {
      "text/plain": [
       "Text(0, 0.5, 'Stock Value')"
      ]
     },
     "execution_count": 7,
     "metadata": {},
     "output_type": "execute_result"
    },
    {
     "data": {
      "image/png": "[encoded data removed]",
      "text/plain": [
       "<Figure size 1080x432 with 1 Axes>"
      ]
     },
     "metadata": {
      "needs_background": "light"
     },
     "output_type": "display_data"
    }
   ],
   "source": [
    "plt.figure(figsize=(15, 6))\n",
    "plt.plot(data[\"Open\"])\n",
    "plt.title('Stock Opening Value (USD)', fontsize = 20)\n",
    "plt.xlabel('Time')\n",
    "plt.ylabel('Stock Value')"
   ]
  },
  {
   "cell_type": "code",
   "execution_count": 8,
   "metadata": {},
   "outputs": [
    {
     "data": {
      "text/plain": [
       "Text(0, 0.5, 'Stock Value')"
      ]
     },
     "execution_count": 8,
     "metadata": {},
     "output_type": "execute_result"
    },
    {
     "data": {
      "image/png": "[encoded data removed]",
      "text/plain": [
       "<Figure size 1080x432 with 1 Axes>"
      ]
     },
     "metadata": {
      "needs_background": "light"
     },
     "output_type": "display_data"
    }
   ],
   "source": [
    "plt.figure(figsize=(15,6))\n",
    "plt.plot(data[\"Close\"])\n",
    "plt.title('Stock Closing Value (USD)', fontsize = 20)\n",
    "plt.xlabel('Time')\n",
    "plt.ylabel('Stock Value')"
   ]
  },
  {
   "cell_type": "markdown",
   "metadata": {},
   "source": [
    "## Stock Data Manipulation\n",
    "A moving average is a calculation used to analyze data points by creating a series of averages of different subsets of the full data set. In finance, a moving average (MA) is a stock indicator that is commonly used in technical analysis. "
   ]
  },
  {
   "cell_type": "code",
   "execution_count": 9,
   "metadata": {},
   "outputs": [
    {
     "data": {
      "text/html": [
       "<div>\n",
       "<style scoped>\n",
       "    .dataframe tbody tr th:only-of-type {\n",
       "        vertical-align: middle;\n",
       "    }\n",
       "\n",
       "    .dataframe tbody tr th {\n",
       "        vertical-align: top;\n",
       "    }\n",
       "\n",
       "    .dataframe thead th {\n",
       "        text-align: right;\n",
       "    }\n",
       "</style>\n",
       "<table border=\"1\" class=\"dataframe\">\n",
       "  <thead>\n",
       "    <tr style=\"text-align: right;\">\n",
       "      <th></th>\n",
       "      <th>High</th>\n",
       "      <th>Low</th>\n",
       "      <th>Open</th>\n",
       "      <th>Close</th>\n",
       "      <th>Volume</th>\n",
       "      <th>Adj Close</th>\n",
       "    </tr>\n",
       "    <tr>\n",
       "      <th>Date</th>\n",
       "      <th></th>\n",
       "      <th></th>\n",
       "      <th></th>\n",
       "      <th></th>\n",
       "      <th></th>\n",
       "      <th></th>\n",
       "    </tr>\n",
       "  </thead>\n",
       "  <tbody>\n",
       "    <tr>\n",
       "      <th>2020-03-03</th>\n",
       "      <td>24.010000</td>\n",
       "      <td>22.400000</td>\n",
       "      <td>23.370001</td>\n",
       "      <td>22.400000</td>\n",
       "      <td>403100.0</td>\n",
       "      <td>22.373423</td>\n",
       "    </tr>\n",
       "    <tr>\n",
       "      <th>2020-03-04</th>\n",
       "      <td>23.950001</td>\n",
       "      <td>23.010000</td>\n",
       "      <td>23.250000</td>\n",
       "      <td>23.290001</td>\n",
       "      <td>175400.0</td>\n",
       "      <td>23.262369</td>\n",
       "    </tr>\n",
       "    <tr>\n",
       "      <th>2020-03-05</th>\n",
       "      <td>23.820000</td>\n",
       "      <td>23.049999</td>\n",
       "      <td>23.820000</td>\n",
       "      <td>23.490000</td>\n",
       "      <td>164300.0</td>\n",
       "      <td>23.462130</td>\n",
       "    </tr>\n",
       "    <tr>\n",
       "      <th>2020-03-06</th>\n",
       "      <td>23.100000</td>\n",
       "      <td>21.830000</td>\n",
       "      <td>23.030001</td>\n",
       "      <td>22.980000</td>\n",
       "      <td>194000.0</td>\n",
       "      <td>22.952734</td>\n",
       "    </tr>\n",
       "    <tr>\n",
       "      <th>2020-03-09</th>\n",
       "      <td>22.219999</td>\n",
       "      <td>20.400000</td>\n",
       "      <td>21.740000</td>\n",
       "      <td>22.040001</td>\n",
       "      <td>64000.0</td>\n",
       "      <td>22.013853</td>\n",
       "    </tr>\n",
       "    <tr>\n",
       "      <th>...</th>\n",
       "      <td>...</td>\n",
       "      <td>...</td>\n",
       "      <td>...</td>\n",
       "      <td>...</td>\n",
       "      <td>...</td>\n",
       "      <td>...</td>\n",
       "    </tr>\n",
       "    <tr>\n",
       "      <th>2020-07-21</th>\n",
       "      <td>26.990000</td>\n",
       "      <td>26.170000</td>\n",
       "      <td>26.990000</td>\n",
       "      <td>26.450001</td>\n",
       "      <td>64400.0</td>\n",
       "      <td>26.450001</td>\n",
       "    </tr>\n",
       "    <tr>\n",
       "      <th>2020-07-22</th>\n",
       "      <td>26.920000</td>\n",
       "      <td>26.139999</td>\n",
       "      <td>26.139999</td>\n",
       "      <td>26.549999</td>\n",
       "      <td>195200.0</td>\n",
       "      <td>26.549999</td>\n",
       "    </tr>\n",
       "    <tr>\n",
       "      <th>2020-07-23</th>\n",
       "      <td>27.469999</td>\n",
       "      <td>26.639999</td>\n",
       "      <td>26.799999</td>\n",
       "      <td>27.010000</td>\n",
       "      <td>92500.0</td>\n",
       "      <td>27.010000</td>\n",
       "    </tr>\n",
       "    <tr>\n",
       "      <th>2020-07-24</th>\n",
       "      <td>27.990000</td>\n",
       "      <td>27.290001</td>\n",
       "      <td>27.290001</td>\n",
       "      <td>27.760000</td>\n",
       "      <td>159600.0</td>\n",
       "      <td>27.760000</td>\n",
       "    </tr>\n",
       "    <tr>\n",
       "      <th>2020-07-27</th>\n",
       "      <td>28.330000</td>\n",
       "      <td>27.540001</td>\n",
       "      <td>27.799999</td>\n",
       "      <td>28.299999</td>\n",
       "      <td>98700.0</td>\n",
       "      <td>28.299999</td>\n",
       "    </tr>\n",
       "  </tbody>\n",
       "</table>\n",
       "<p>102 rows × 6 columns</p>\n",
       "</div>"
      ],
      "text/plain": [
       "                 High        Low       Open      Close    Volume  Adj Close\n",
       "Date                                                                       \n",
       "2020-03-03  24.010000  22.400000  23.370001  22.400000  403100.0  22.373423\n",
       "2020-03-04  23.950001  23.010000  23.250000  23.290001  175400.0  23.262369\n",
       "2020-03-05  23.820000  23.049999  23.820000  23.490000  164300.0  23.462130\n",
       "2020-03-06  23.100000  21.830000  23.030001  22.980000  194000.0  22.952734\n",
       "2020-03-09  22.219999  20.400000  21.740000  22.040001   64000.0  22.013853\n",
       "...               ...        ...        ...        ...       ...        ...\n",
       "2020-07-21  26.990000  26.170000  26.990000  26.450001   64400.0  26.450001\n",
       "2020-07-22  26.920000  26.139999  26.139999  26.549999  195200.0  26.549999\n",
       "2020-07-23  27.469999  26.639999  26.799999  27.010000   92500.0  27.010000\n",
       "2020-07-24  27.990000  27.290001  27.290001  27.760000  159600.0  27.760000\n",
       "2020-07-27  28.330000  27.540001  27.799999  28.299999   98700.0  28.299999\n",
       "\n",
       "[102 rows x 6 columns]"
      ]
     },
     "execution_count": 9,
     "metadata": {},
     "output_type": "execute_result"
    }
   ],
   "source": [
    "data"
   ]
  },
  {
   "cell_type": "code",
   "execution_count": 10,
   "metadata": {},
   "outputs": [],
   "source": [
    "gfl_close=pd.DataFrame(df.Close)"
   ]
  },
  {
   "cell_type": "code",
   "execution_count": 11,
   "metadata": {},
   "outputs": [
    {
     "data": {
      "text/html": [
       "<div>\n",
       "<style scoped>\n",
       "    .dataframe tbody tr th:only-of-type {\n",
       "        vertical-align: middle;\n",
       "    }\n",
       "\n",
       "    .dataframe tbody tr th {\n",
       "        vertical-align: top;\n",
       "    }\n",
       "\n",
       "    .dataframe thead th {\n",
       "        text-align: right;\n",
       "    }\n",
       "</style>\n",
       "<table border=\"1\" class=\"dataframe\">\n",
       "  <thead>\n",
       "    <tr style=\"text-align: right;\">\n",
       "      <th></th>\n",
       "      <th>Close</th>\n",
       "    </tr>\n",
       "    <tr>\n",
       "      <th>Date</th>\n",
       "      <th></th>\n",
       "    </tr>\n",
       "  </thead>\n",
       "  <tbody>\n",
       "    <tr>\n",
       "      <th>2020-03-03</th>\n",
       "      <td>22.400000</td>\n",
       "    </tr>\n",
       "    <tr>\n",
       "      <th>2020-03-04</th>\n",
       "      <td>23.290001</td>\n",
       "    </tr>\n",
       "    <tr>\n",
       "      <th>2020-03-05</th>\n",
       "      <td>23.490000</td>\n",
       "    </tr>\n",
       "    <tr>\n",
       "      <th>2020-03-06</th>\n",
       "      <td>22.980000</td>\n",
       "    </tr>\n",
       "    <tr>\n",
       "      <th>2020-03-09</th>\n",
       "      <td>22.040001</td>\n",
       "    </tr>\n",
       "    <tr>\n",
       "      <th>...</th>\n",
       "      <td>...</td>\n",
       "    </tr>\n",
       "    <tr>\n",
       "      <th>2020-07-21</th>\n",
       "      <td>26.450001</td>\n",
       "    </tr>\n",
       "    <tr>\n",
       "      <th>2020-07-22</th>\n",
       "      <td>26.549999</td>\n",
       "    </tr>\n",
       "    <tr>\n",
       "      <th>2020-07-23</th>\n",
       "      <td>27.010000</td>\n",
       "    </tr>\n",
       "    <tr>\n",
       "      <th>2020-07-24</th>\n",
       "      <td>27.760000</td>\n",
       "    </tr>\n",
       "    <tr>\n",
       "      <th>2020-07-27</th>\n",
       "      <td>28.299999</td>\n",
       "    </tr>\n",
       "  </tbody>\n",
       "</table>\n",
       "<p>102 rows × 1 columns</p>\n",
       "</div>"
      ],
      "text/plain": [
       "                Close\n",
       "Date                 \n",
       "2020-03-03  22.400000\n",
       "2020-03-04  23.290001\n",
       "2020-03-05  23.490000\n",
       "2020-03-06  22.980000\n",
       "2020-03-09  22.040001\n",
       "...               ...\n",
       "2020-07-21  26.450001\n",
       "2020-07-22  26.549999\n",
       "2020-07-23  27.010000\n",
       "2020-07-24  27.760000\n",
       "2020-07-27  28.299999\n",
       "\n",
       "[102 rows x 1 columns]"
      ]
     },
     "execution_count": 11,
     "metadata": {},
     "output_type": "execute_result"
    }
   ],
   "source": [
    "gfl_close"
   ]
  },
  {
   "cell_type": "code",
   "execution_count": 12,
   "metadata": {},
   "outputs": [
    {
     "data": {
      "text/html": [
       "<div>\n",
       "<style scoped>\n",
       "    .dataframe tbody tr th:only-of-type {\n",
       "        vertical-align: middle;\n",
       "    }\n",
       "\n",
       "    .dataframe tbody tr th {\n",
       "        vertical-align: top;\n",
       "    }\n",
       "\n",
       "    .dataframe thead th {\n",
       "        text-align: right;\n",
       "    }\n",
       "</style>\n",
       "<table border=\"1\" class=\"dataframe\">\n",
       "  <thead>\n",
       "    <tr style=\"text-align: right;\">\n",
       "      <th></th>\n",
       "      <th>High</th>\n",
       "      <th>Low</th>\n",
       "      <th>Open</th>\n",
       "      <th>Close</th>\n",
       "      <th>Volume</th>\n",
       "      <th>Adj Close</th>\n",
       "      <th>5ma</th>\n",
       "    </tr>\n",
       "    <tr>\n",
       "      <th>Date</th>\n",
       "      <th></th>\n",
       "      <th></th>\n",
       "      <th></th>\n",
       "      <th></th>\n",
       "      <th></th>\n",
       "      <th></th>\n",
       "      <th></th>\n",
       "    </tr>\n",
       "  </thead>\n",
       "  <tbody>\n",
       "    <tr>\n",
       "      <th>2020-03-03</th>\n",
       "      <td>24.010000</td>\n",
       "      <td>22.400000</td>\n",
       "      <td>23.370001</td>\n",
       "      <td>22.400000</td>\n",
       "      <td>403100.0</td>\n",
       "      <td>22.373423</td>\n",
       "      <td>22.400</td>\n",
       "    </tr>\n",
       "    <tr>\n",
       "      <th>2020-03-04</th>\n",
       "      <td>23.950001</td>\n",
       "      <td>23.010000</td>\n",
       "      <td>23.250000</td>\n",
       "      <td>23.290001</td>\n",
       "      <td>175400.0</td>\n",
       "      <td>23.262369</td>\n",
       "      <td>22.845</td>\n",
       "    </tr>\n",
       "    <tr>\n",
       "      <th>2020-03-05</th>\n",
       "      <td>23.820000</td>\n",
       "      <td>23.049999</td>\n",
       "      <td>23.820000</td>\n",
       "      <td>23.490000</td>\n",
       "      <td>164300.0</td>\n",
       "      <td>23.462130</td>\n",
       "      <td>23.060</td>\n",
       "    </tr>\n",
       "    <tr>\n",
       "      <th>2020-03-06</th>\n",
       "      <td>23.100000</td>\n",
       "      <td>21.830000</td>\n",
       "      <td>23.030001</td>\n",
       "      <td>22.980000</td>\n",
       "      <td>194000.0</td>\n",
       "      <td>22.952734</td>\n",
       "      <td>23.040</td>\n",
       "    </tr>\n",
       "    <tr>\n",
       "      <th>2020-03-09</th>\n",
       "      <td>22.219999</td>\n",
       "      <td>20.400000</td>\n",
       "      <td>21.740000</td>\n",
       "      <td>22.040001</td>\n",
       "      <td>64000.0</td>\n",
       "      <td>22.013853</td>\n",
       "      <td>22.840</td>\n",
       "    </tr>\n",
       "  </tbody>\n",
       "</table>\n",
       "</div>"
      ],
      "text/plain": [
       "                 High        Low       Open      Close    Volume  Adj Close  \\\n",
       "Date                                                                          \n",
       "2020-03-03  24.010000  22.400000  23.370001  22.400000  403100.0  22.373423   \n",
       "2020-03-04  23.950001  23.010000  23.250000  23.290001  175400.0  23.262369   \n",
       "2020-03-05  23.820000  23.049999  23.820000  23.490000  164300.0  23.462130   \n",
       "2020-03-06  23.100000  21.830000  23.030001  22.980000  194000.0  22.952734   \n",
       "2020-03-09  22.219999  20.400000  21.740000  22.040001   64000.0  22.013853   \n",
       "\n",
       "               5ma  \n",
       "Date                \n",
       "2020-03-03  22.400  \n",
       "2020-03-04  22.845  \n",
       "2020-03-05  23.060  \n",
       "2020-03-06  23.040  \n",
       "2020-03-09  22.840  "
      ]
     },
     "execution_count": 12,
     "metadata": {},
     "output_type": "execute_result"
    }
   ],
   "source": [
    "# Create, and add 5 days moving average to dataframe\n",
    "data['5ma'] = data['Close'].rolling(window=5,min_periods=0).mean()\n",
    "data.head()"
   ]
  },
  {
   "cell_type": "code",
   "execution_count": 13,
   "metadata": {},
   "outputs": [
    {
     "data": {
      "text/plain": [
       "Text(0, 0.5, 'Stock Value')"
      ]
     },
     "execution_count": 13,
     "metadata": {},
     "output_type": "execute_result"
    },
    {
     "data": {
      "image/png": "[encoded data removed]",
      "text/plain": [
       "<Figure size 864x576 with 1 Axes>"
      ]
     },
     "metadata": {
      "needs_background": "light"
     },
     "output_type": "display_data"
    }
   ],
   "source": [
    "plt.figure(figsize=(12, 8))\n",
    "plt.plot(data[[\"5ma\",\"Close\"]])\n",
    "plt.title('Stock Closing Value (USD) and Moving Average(5 Days) ', fontsize = 20)\n",
    "plt.legend(labels=data[[\"5ma\",\"Close\"]])\n",
    "plt.xlabel('Time')\n",
    "plt.xticks(rotation=90)\n",
    "plt.ylabel('Stock Value')"
   ]
  },
  {
   "cell_type": "code",
   "execution_count": 14,
   "metadata": {},
   "outputs": [
    {
     "data": {
      "text/html": [
       "<div>\n",
       "<style scoped>\n",
       "    .dataframe tbody tr th:only-of-type {\n",
       "        vertical-align: middle;\n",
       "    }\n",
       "\n",
       "    .dataframe tbody tr th {\n",
       "        vertical-align: top;\n",
       "    }\n",
       "\n",
       "    .dataframe thead th {\n",
       "        text-align: right;\n",
       "    }\n",
       "</style>\n",
       "<table border=\"1\" class=\"dataframe\">\n",
       "  <thead>\n",
       "    <tr style=\"text-align: right;\">\n",
       "      <th></th>\n",
       "      <th>High</th>\n",
       "      <th>Low</th>\n",
       "      <th>Open</th>\n",
       "      <th>Close</th>\n",
       "      <th>Volume</th>\n",
       "      <th>Adj Close</th>\n",
       "      <th>5ma</th>\n",
       "      <th>10ma</th>\n",
       "    </tr>\n",
       "    <tr>\n",
       "      <th>Date</th>\n",
       "      <th></th>\n",
       "      <th></th>\n",
       "      <th></th>\n",
       "      <th></th>\n",
       "      <th></th>\n",
       "      <th></th>\n",
       "      <th></th>\n",
       "      <th></th>\n",
       "    </tr>\n",
       "  </thead>\n",
       "  <tbody>\n",
       "    <tr>\n",
       "      <th>2020-03-03</th>\n",
       "      <td>24.010000</td>\n",
       "      <td>22.400000</td>\n",
       "      <td>23.370001</td>\n",
       "      <td>22.400000</td>\n",
       "      <td>403100.0</td>\n",
       "      <td>22.373423</td>\n",
       "      <td>22.400</td>\n",
       "      <td>22.400</td>\n",
       "    </tr>\n",
       "    <tr>\n",
       "      <th>2020-03-04</th>\n",
       "      <td>23.950001</td>\n",
       "      <td>23.010000</td>\n",
       "      <td>23.250000</td>\n",
       "      <td>23.290001</td>\n",
       "      <td>175400.0</td>\n",
       "      <td>23.262369</td>\n",
       "      <td>22.845</td>\n",
       "      <td>22.845</td>\n",
       "    </tr>\n",
       "    <tr>\n",
       "      <th>2020-03-05</th>\n",
       "      <td>23.820000</td>\n",
       "      <td>23.049999</td>\n",
       "      <td>23.820000</td>\n",
       "      <td>23.490000</td>\n",
       "      <td>164300.0</td>\n",
       "      <td>23.462130</td>\n",
       "      <td>23.060</td>\n",
       "      <td>23.060</td>\n",
       "    </tr>\n",
       "    <tr>\n",
       "      <th>2020-03-06</th>\n",
       "      <td>23.100000</td>\n",
       "      <td>21.830000</td>\n",
       "      <td>23.030001</td>\n",
       "      <td>22.980000</td>\n",
       "      <td>194000.0</td>\n",
       "      <td>22.952734</td>\n",
       "      <td>23.040</td>\n",
       "      <td>23.040</td>\n",
       "    </tr>\n",
       "    <tr>\n",
       "      <th>2020-03-09</th>\n",
       "      <td>22.219999</td>\n",
       "      <td>20.400000</td>\n",
       "      <td>21.740000</td>\n",
       "      <td>22.040001</td>\n",
       "      <td>64000.0</td>\n",
       "      <td>22.013853</td>\n",
       "      <td>22.840</td>\n",
       "      <td>22.840</td>\n",
       "    </tr>\n",
       "  </tbody>\n",
       "</table>\n",
       "</div>"
      ],
      "text/plain": [
       "                 High        Low       Open      Close    Volume  Adj Close  \\\n",
       "Date                                                                          \n",
       "2020-03-03  24.010000  22.400000  23.370001  22.400000  403100.0  22.373423   \n",
       "2020-03-04  23.950001  23.010000  23.250000  23.290001  175400.0  23.262369   \n",
       "2020-03-05  23.820000  23.049999  23.820000  23.490000  164300.0  23.462130   \n",
       "2020-03-06  23.100000  21.830000  23.030001  22.980000  194000.0  22.952734   \n",
       "2020-03-09  22.219999  20.400000  21.740000  22.040001   64000.0  22.013853   \n",
       "\n",
       "               5ma    10ma  \n",
       "Date                        \n",
       "2020-03-03  22.400  22.400  \n",
       "2020-03-04  22.845  22.845  \n",
       "2020-03-05  23.060  23.060  \n",
       "2020-03-06  23.040  23.040  \n",
       "2020-03-09  22.840  22.840  "
      ]
     },
     "execution_count": 14,
     "metadata": {},
     "output_type": "execute_result"
    }
   ],
   "source": [
    "# Create, and add 10days moving average to dataframe\n",
    "data['10ma'] = data['Close'].rolling(window=10,min_periods=0).mean()\n",
    "data.head()"
   ]
  },
  {
   "cell_type": "code",
   "execution_count": 15,
   "metadata": {},
   "outputs": [
    {
     "data": {
      "text/plain": [
       "Text(0, 0.5, 'Stock Value')"
      ]
     },
     "execution_count": 15,
     "metadata": {},
     "output_type": "execute_result"
    },
    {
     "data": {
      "image/png": "[encoded data removed]",
      "text/plain": [
       "<Figure size 864x576 with 1 Axes>"
      ]
     },
     "metadata": {
      "needs_background": "light"
     },
     "output_type": "display_data"
    }
   ],
   "source": [
    "plt.figure(figsize=(12, 8))\n",
    "plt.plot(data[[\"10ma\",\"Close\"]])\n",
    "plt.title('Stock Closing Value (USD) and Moving Average(10 Days) ', fontsize = 20)\n",
    "plt.legend(labels=data[[\"10ma\",\"Close\"]])\n",
    "plt.xlabel('Time')\n",
    "plt.xticks(rotation=90)\n",
    "plt.ylabel('Stock Value')"
   ]
  },
  {
   "cell_type": "code",
   "execution_count": 16,
   "metadata": {},
   "outputs": [
    {
     "data": {
      "text/html": [
       "<div>\n",
       "<style scoped>\n",
       "    .dataframe tbody tr th:only-of-type {\n",
       "        vertical-align: middle;\n",
       "    }\n",
       "\n",
       "    .dataframe tbody tr th {\n",
       "        vertical-align: top;\n",
       "    }\n",
       "\n",
       "    .dataframe thead th {\n",
       "        text-align: right;\n",
       "    }\n",
       "</style>\n",
       "<table border=\"1\" class=\"dataframe\">\n",
       "  <thead>\n",
       "    <tr style=\"text-align: right;\">\n",
       "      <th></th>\n",
       "      <th>High</th>\n",
       "      <th>Low</th>\n",
       "      <th>Open</th>\n",
       "      <th>Close</th>\n",
       "      <th>Volume</th>\n",
       "      <th>Adj Close</th>\n",
       "      <th>5ma</th>\n",
       "      <th>10ma</th>\n",
       "      <th>20ma</th>\n",
       "    </tr>\n",
       "    <tr>\n",
       "      <th>Date</th>\n",
       "      <th></th>\n",
       "      <th></th>\n",
       "      <th></th>\n",
       "      <th></th>\n",
       "      <th></th>\n",
       "      <th></th>\n",
       "      <th></th>\n",
       "      <th></th>\n",
       "      <th></th>\n",
       "    </tr>\n",
       "  </thead>\n",
       "  <tbody>\n",
       "    <tr>\n",
       "      <th>2020-03-03</th>\n",
       "      <td>24.010000</td>\n",
       "      <td>22.400000</td>\n",
       "      <td>23.370001</td>\n",
       "      <td>22.400000</td>\n",
       "      <td>403100.0</td>\n",
       "      <td>22.373423</td>\n",
       "      <td>22.400</td>\n",
       "      <td>22.400</td>\n",
       "      <td>22.400</td>\n",
       "    </tr>\n",
       "    <tr>\n",
       "      <th>2020-03-04</th>\n",
       "      <td>23.950001</td>\n",
       "      <td>23.010000</td>\n",
       "      <td>23.250000</td>\n",
       "      <td>23.290001</td>\n",
       "      <td>175400.0</td>\n",
       "      <td>23.262369</td>\n",
       "      <td>22.845</td>\n",
       "      <td>22.845</td>\n",
       "      <td>22.845</td>\n",
       "    </tr>\n",
       "    <tr>\n",
       "      <th>2020-03-05</th>\n",
       "      <td>23.820000</td>\n",
       "      <td>23.049999</td>\n",
       "      <td>23.820000</td>\n",
       "      <td>23.490000</td>\n",
       "      <td>164300.0</td>\n",
       "      <td>23.462130</td>\n",
       "      <td>23.060</td>\n",
       "      <td>23.060</td>\n",
       "      <td>23.060</td>\n",
       "    </tr>\n",
       "    <tr>\n",
       "      <th>2020-03-06</th>\n",
       "      <td>23.100000</td>\n",
       "      <td>21.830000</td>\n",
       "      <td>23.030001</td>\n",
       "      <td>22.980000</td>\n",
       "      <td>194000.0</td>\n",
       "      <td>22.952734</td>\n",
       "      <td>23.040</td>\n",
       "      <td>23.040</td>\n",
       "      <td>23.040</td>\n",
       "    </tr>\n",
       "    <tr>\n",
       "      <th>2020-03-09</th>\n",
       "      <td>22.219999</td>\n",
       "      <td>20.400000</td>\n",
       "      <td>21.740000</td>\n",
       "      <td>22.040001</td>\n",
       "      <td>64000.0</td>\n",
       "      <td>22.013853</td>\n",
       "      <td>22.840</td>\n",
       "      <td>22.840</td>\n",
       "      <td>22.840</td>\n",
       "    </tr>\n",
       "  </tbody>\n",
       "</table>\n",
       "</div>"
      ],
      "text/plain": [
       "                 High        Low       Open      Close    Volume  Adj Close  \\\n",
       "Date                                                                          \n",
       "2020-03-03  24.010000  22.400000  23.370001  22.400000  403100.0  22.373423   \n",
       "2020-03-04  23.950001  23.010000  23.250000  23.290001  175400.0  23.262369   \n",
       "2020-03-05  23.820000  23.049999  23.820000  23.490000  164300.0  23.462130   \n",
       "2020-03-06  23.100000  21.830000  23.030001  22.980000  194000.0  22.952734   \n",
       "2020-03-09  22.219999  20.400000  21.740000  22.040001   64000.0  22.013853   \n",
       "\n",
       "               5ma    10ma    20ma  \n",
       "Date                                \n",
       "2020-03-03  22.400  22.400  22.400  \n",
       "2020-03-04  22.845  22.845  22.845  \n",
       "2020-03-05  23.060  23.060  23.060  \n",
       "2020-03-06  23.040  23.040  23.040  \n",
       "2020-03-09  22.840  22.840  22.840  "
      ]
     },
     "execution_count": 16,
     "metadata": {},
     "output_type": "execute_result"
    }
   ],
   "source": [
    "# Create, and add 20days moving average to dataframe\n",
    "data['20ma'] = data['Close'].rolling(window=20,min_periods=0).mean()\n",
    "data.head()"
   ]
  },
  {
   "cell_type": "code",
   "execution_count": 17,
   "metadata": {},
   "outputs": [
    {
     "data": {
      "text/plain": [
       "Text(0, 0.5, 'Stock Value')"
      ]
     },
     "execution_count": 17,
     "metadata": {},
     "output_type": "execute_result"
    },
    {
     "data": {
      "image/png": "[encoded data removed]",
      "text/plain": [
       "<Figure size 864x576 with 1 Axes>"
      ]
     },
     "metadata": {
      "needs_background": "light"
     },
     "output_type": "display_data"
    }
   ],
   "source": [
    "plt.figure(figsize=(12, 8))\n",
    "plt.plot(data[[\"20ma\",\"Close\"]])\n",
    "plt.title('Stock Closing Value (USD) and Moving Average(20 Days) ', fontsize = 20)\n",
    "plt.legend(labels=data[[\"20ma\",\"Close\"]])\n",
    "plt.xlabel('Time')\n",
    "plt.xticks(rotation=90)\n",
    "plt.ylabel('Stock Value')"
   ]
  },
  {
   "cell_type": "markdown",
   "metadata": {},
   "source": [
    "## Resampling:-\n",
    "Resampling generates a unique sampling distribution on the basis of the actual data. We can apply various frequency to resample our time series data. This is a very important technique in the field of analytics."
   ]
  },
  {
   "cell_type": "code",
   "execution_count": 18,
   "metadata": {},
   "outputs": [],
   "source": [
    "# Resample to get open-high-low-close (OHLC) on every 7 days of data(weekly basis).\n",
    "weekly_ohlc = data.Close.resample('W').ohlc() \n",
    "weekly_volume = data.Volume.resample('W').sum()"
   ]
  },
  {
   "cell_type": "code",
   "execution_count": 19,
   "metadata": {},
   "outputs": [
    {
     "data": {
      "text/html": [
       "<div>\n",
       "<style scoped>\n",
       "    .dataframe tbody tr th:only-of-type {\n",
       "        vertical-align: middle;\n",
       "    }\n",
       "\n",
       "    .dataframe tbody tr th {\n",
       "        vertical-align: top;\n",
       "    }\n",
       "\n",
       "    .dataframe thead th {\n",
       "        text-align: right;\n",
       "    }\n",
       "</style>\n",
       "<table border=\"1\" class=\"dataframe\">\n",
       "  <thead>\n",
       "    <tr style=\"text-align: right;\">\n",
       "      <th></th>\n",
       "      <th>open</th>\n",
       "      <th>high</th>\n",
       "      <th>low</th>\n",
       "      <th>close</th>\n",
       "    </tr>\n",
       "    <tr>\n",
       "      <th>Date</th>\n",
       "      <th></th>\n",
       "      <th></th>\n",
       "      <th></th>\n",
       "      <th></th>\n",
       "    </tr>\n",
       "  </thead>\n",
       "  <tbody>\n",
       "    <tr>\n",
       "      <th>2020-03-08</th>\n",
       "      <td>22.400000</td>\n",
       "      <td>23.490</td>\n",
       "      <td>22.400000</td>\n",
       "      <td>22.980000</td>\n",
       "    </tr>\n",
       "    <tr>\n",
       "      <th>2020-03-15</th>\n",
       "      <td>22.040001</td>\n",
       "      <td>23.230</td>\n",
       "      <td>22.040001</td>\n",
       "      <td>23.230000</td>\n",
       "    </tr>\n",
       "    <tr>\n",
       "      <th>2020-03-22</th>\n",
       "      <td>20.730000</td>\n",
       "      <td>22.850</td>\n",
       "      <td>20.730000</td>\n",
       "      <td>22.850000</td>\n",
       "    </tr>\n",
       "    <tr>\n",
       "      <th>2020-03-29</th>\n",
       "      <td>21.275000</td>\n",
       "      <td>21.275</td>\n",
       "      <td>20.000000</td>\n",
       "      <td>20.709999</td>\n",
       "    </tr>\n",
       "    <tr>\n",
       "      <th>2020-04-05</th>\n",
       "      <td>20.660000</td>\n",
       "      <td>21.770</td>\n",
       "      <td>18.000000</td>\n",
       "      <td>18.000000</td>\n",
       "    </tr>\n",
       "  </tbody>\n",
       "</table>\n",
       "</div>"
      ],
      "text/plain": [
       "                 open    high        low      close\n",
       "Date                                               \n",
       "2020-03-08  22.400000  23.490  22.400000  22.980000\n",
       "2020-03-15  22.040001  23.230  22.040001  23.230000\n",
       "2020-03-22  20.730000  22.850  20.730000  22.850000\n",
       "2020-03-29  21.275000  21.275  20.000000  20.709999\n",
       "2020-04-05  20.660000  21.770  18.000000  18.000000"
      ]
     },
     "execution_count": 19,
     "metadata": {},
     "output_type": "execute_result"
    }
   ],
   "source": [
    "weekly_ohlc.head()"
   ]
  },
  {
   "cell_type": "code",
   "execution_count": 20,
   "metadata": {},
   "outputs": [
    {
     "data": {
      "text/plain": [
       "Date\n",
       "2020-03-08    936800.0\n",
       "2020-03-15    380800.0\n",
       "2020-03-22    249700.0\n",
       "2020-03-29    313300.0\n",
       "2020-04-05    235900.0\n",
       "Freq: W-SUN, Name: Volume, dtype: float64"
      ]
     },
     "execution_count": 20,
     "metadata": {},
     "output_type": "execute_result"
    }
   ],
   "source": [
    "weekly_volume.head()"
   ]
  },
  {
   "cell_type": "code",
   "execution_count": 21,
   "metadata": {},
   "outputs": [
    {
     "data": {
      "text/html": [
       "<div>\n",
       "<style scoped>\n",
       "    .dataframe tbody tr th:only-of-type {\n",
       "        vertical-align: middle;\n",
       "    }\n",
       "\n",
       "    .dataframe tbody tr th {\n",
       "        vertical-align: top;\n",
       "    }\n",
       "\n",
       "    .dataframe thead th {\n",
       "        text-align: right;\n",
       "    }\n",
       "</style>\n",
       "<table border=\"1\" class=\"dataframe\">\n",
       "  <thead>\n",
       "    <tr style=\"text-align: right;\">\n",
       "      <th></th>\n",
       "      <th>Date</th>\n",
       "      <th>open</th>\n",
       "      <th>high</th>\n",
       "      <th>low</th>\n",
       "      <th>close</th>\n",
       "    </tr>\n",
       "  </thead>\n",
       "  <tbody>\n",
       "    <tr>\n",
       "      <th>0</th>\n",
       "      <td>737492.0</td>\n",
       "      <td>22.400000</td>\n",
       "      <td>23.490</td>\n",
       "      <td>22.400000</td>\n",
       "      <td>22.980000</td>\n",
       "    </tr>\n",
       "    <tr>\n",
       "      <th>1</th>\n",
       "      <td>737499.0</td>\n",
       "      <td>22.040001</td>\n",
       "      <td>23.230</td>\n",
       "      <td>22.040001</td>\n",
       "      <td>23.230000</td>\n",
       "    </tr>\n",
       "    <tr>\n",
       "      <th>2</th>\n",
       "      <td>737506.0</td>\n",
       "      <td>20.730000</td>\n",
       "      <td>22.850</td>\n",
       "      <td>20.730000</td>\n",
       "      <td>22.850000</td>\n",
       "    </tr>\n",
       "    <tr>\n",
       "      <th>3</th>\n",
       "      <td>737513.0</td>\n",
       "      <td>21.275000</td>\n",
       "      <td>21.275</td>\n",
       "      <td>20.000000</td>\n",
       "      <td>20.709999</td>\n",
       "    </tr>\n",
       "    <tr>\n",
       "      <th>4</th>\n",
       "      <td>737520.0</td>\n",
       "      <td>20.660000</td>\n",
       "      <td>21.770</td>\n",
       "      <td>18.000000</td>\n",
       "      <td>18.000000</td>\n",
       "    </tr>\n",
       "  </tbody>\n",
       "</table>\n",
       "</div>"
      ],
      "text/plain": [
       "       Date       open    high        low      close\n",
       "0  737492.0  22.400000  23.490  22.400000  22.980000\n",
       "1  737499.0  22.040001  23.230  22.040001  23.230000\n",
       "2  737506.0  20.730000  22.850  20.730000  22.850000\n",
       "3  737513.0  21.275000  21.275  20.000000  20.709999\n",
       "4  737520.0  20.660000  21.770  18.000000  18.000000"
      ]
     },
     "execution_count": 21,
     "metadata": {},
     "output_type": "execute_result"
    }
   ],
   "source": [
    "weekly_ohlc.reset_index(inplace=True)\n",
    "weekly_ohlc.Date = weekly_ohlc.Date.map(mdates.date2num)\n",
    "weekly_ohlc.head()"
   ]
  },
  {
   "cell_type": "markdown",
   "metadata": {},
   "source": [
    "## CandleStick Charts:-\n",
    " 1. Candlesticks have become a staple of every trading platform and charting program for literally every financial trading vehicle.\n",
    " 2. A candlestick is composed of three parts; the upper shadow, lower shadow and body. The body is colored green or red. Each candlestick represents a segmented period of time. \n",
    " 3. The high is represents by a vertical line extending from the top of the body to the highest price called a shadow, tail or wick. \n",
    " 4. The low of the candle is the lower shadow or tail, represented by a vertical line extending down from the body. \n",
    " 5. If the close is higher than the open, then the body is colored green representing a net price gain. If the open is higher than the close, then the body is colored red as it represents a net price decline."
   ]
  },
  {
   "cell_type": "code",
   "execution_count": 22,
   "metadata": {},
   "outputs": [
    {
     "data": {
      "image/png": "[encoded data removed]",
      "text/plain": [
       "<Figure size 1080x720 with 1 Axes>"
      ]
     },
     "metadata": {
      "needs_background": "light"
     },
     "output_type": "display_data"
    }
   ],
   "source": [
    "# Create and visualize candlestick charts\n",
    "plt.figure(figsize=(15,10))\n",
    "\n",
    "ax1 = plt.subplot2grid((6,1), (0,0), rowspan=5, colspan=1)\n",
    "ax1.xaxis_date()\n",
    "candlestick_ohlc(ax1, weekly_ohlc.values, width=2, colorup='g')\n",
    "plt.show()"
   ]
  },
  {
   "cell_type": "markdown",
   "metadata": {},
   "source": [
    "## 5 days candlestick"
   ]
  },
  {
   "cell_type": "code",
   "execution_count": 23,
   "metadata": {},
   "outputs": [],
   "source": [
    "# Resample to get open-high-low-close (OHLC) on every 5 days of data.\n",
    "df_ohlc_5 = data.Close.resample('5D').ohlc() \n",
    "df_volume_5 = data.Volume.resample('5D').sum()"
   ]
  },
  {
   "cell_type": "code",
   "execution_count": 24,
   "metadata": {},
   "outputs": [
    {
     "data": {
      "text/html": [
       "<div>\n",
       "<style scoped>\n",
       "    .dataframe tbody tr th:only-of-type {\n",
       "        vertical-align: middle;\n",
       "    }\n",
       "\n",
       "    .dataframe tbody tr th {\n",
       "        vertical-align: top;\n",
       "    }\n",
       "\n",
       "    .dataframe thead th {\n",
       "        text-align: right;\n",
       "    }\n",
       "</style>\n",
       "<table border=\"1\" class=\"dataframe\">\n",
       "  <thead>\n",
       "    <tr style=\"text-align: right;\">\n",
       "      <th></th>\n",
       "      <th>Date</th>\n",
       "      <th>open</th>\n",
       "      <th>high</th>\n",
       "      <th>low</th>\n",
       "      <th>close</th>\n",
       "    </tr>\n",
       "  </thead>\n",
       "  <tbody>\n",
       "    <tr>\n",
       "      <th>0</th>\n",
       "      <td>737487.0</td>\n",
       "      <td>22.400000</td>\n",
       "      <td>23.490</td>\n",
       "      <td>22.400000</td>\n",
       "      <td>22.980000</td>\n",
       "    </tr>\n",
       "    <tr>\n",
       "      <th>1</th>\n",
       "      <td>737492.0</td>\n",
       "      <td>22.040001</td>\n",
       "      <td>22.990</td>\n",
       "      <td>22.040001</td>\n",
       "      <td>22.590000</td>\n",
       "    </tr>\n",
       "    <tr>\n",
       "      <th>2</th>\n",
       "      <td>737497.0</td>\n",
       "      <td>23.230000</td>\n",
       "      <td>23.230</td>\n",
       "      <td>20.730000</td>\n",
       "      <td>22.020000</td>\n",
       "    </tr>\n",
       "    <tr>\n",
       "      <th>3</th>\n",
       "      <td>737502.0</td>\n",
       "      <td>21.049999</td>\n",
       "      <td>22.850</td>\n",
       "      <td>21.049999</td>\n",
       "      <td>22.850000</td>\n",
       "    </tr>\n",
       "    <tr>\n",
       "      <th>4</th>\n",
       "      <td>737507.0</td>\n",
       "      <td>21.275000</td>\n",
       "      <td>21.275</td>\n",
       "      <td>20.000000</td>\n",
       "      <td>20.709999</td>\n",
       "    </tr>\n",
       "  </tbody>\n",
       "</table>\n",
       "</div>"
      ],
      "text/plain": [
       "       Date       open    high        low      close\n",
       "0  737487.0  22.400000  23.490  22.400000  22.980000\n",
       "1  737492.0  22.040001  22.990  22.040001  22.590000\n",
       "2  737497.0  23.230000  23.230  20.730000  22.020000\n",
       "3  737502.0  21.049999  22.850  21.049999  22.850000\n",
       "4  737507.0  21.275000  21.275  20.000000  20.709999"
      ]
     },
     "execution_count": 24,
     "metadata": {},
     "output_type": "execute_result"
    }
   ],
   "source": [
    "df_ohlc_5.reset_index(inplace=True)\n",
    "df_ohlc_5.Date = df_ohlc_5.Date.map(mdates.date2num)\n",
    "df_ohlc_5.head()"
   ]
  },
  {
   "cell_type": "code",
   "execution_count": 25,
   "metadata": {},
   "outputs": [
    {
     "data": {
      "image/png": "[encoded data removed]",
      "text/plain": [
       "<Figure size 1080x720 with 1 Axes>"
      ]
     },
     "metadata": {
      "needs_background": "light"
     },
     "output_type": "display_data"
    }
   ],
   "source": [
    "# Create and visualize candlestick charts\n",
    "plt.figure(figsize=(15,10))\n",
    "\n",
    "ax1 = plt.subplot2grid((6,1), (0,0), rowspan=5, colspan=1)\n",
    "ax1.xaxis_date()\n",
    "candlestick_ohlc(ax1, df_ohlc_5.values, width=2, colorup='g')\n",
    "plt.title(\"5 DAYS OHLC CANDLESTICK\")\n",
    "plt.show()"
   ]
  },
  {
   "cell_type": "markdown",
   "metadata": {},
   "source": [
    "## 10 days candlestick"
   ]
  },
  {
   "cell_type": "code",
   "execution_count": 26,
   "metadata": {},
   "outputs": [],
   "source": [
    "# Resample to get open-high-low-close (OHLC) on every 10 days of data\n",
    "df_ohlc_10 = data.Close.resample('10D').ohlc() \n",
    "df_volume_10 = data.Volume.resample('10D').sum()"
   ]
  },
  {
   "cell_type": "code",
   "execution_count": 27,
   "metadata": {},
   "outputs": [
    {
     "data": {
      "text/html": [
       "<div>\n",
       "<style scoped>\n",
       "    .dataframe tbody tr th:only-of-type {\n",
       "        vertical-align: middle;\n",
       "    }\n",
       "\n",
       "    .dataframe tbody tr th {\n",
       "        vertical-align: top;\n",
       "    }\n",
       "\n",
       "    .dataframe thead th {\n",
       "        text-align: right;\n",
       "    }\n",
       "</style>\n",
       "<table border=\"1\" class=\"dataframe\">\n",
       "  <thead>\n",
       "    <tr style=\"text-align: right;\">\n",
       "      <th></th>\n",
       "      <th>Date</th>\n",
       "      <th>open</th>\n",
       "      <th>high</th>\n",
       "      <th>low</th>\n",
       "      <th>close</th>\n",
       "    </tr>\n",
       "  </thead>\n",
       "  <tbody>\n",
       "    <tr>\n",
       "      <th>0</th>\n",
       "      <td>737487.0</td>\n",
       "      <td>22.400</td>\n",
       "      <td>23.490000</td>\n",
       "      <td>22.040001</td>\n",
       "      <td>22.590000</td>\n",
       "    </tr>\n",
       "    <tr>\n",
       "      <th>1</th>\n",
       "      <td>737497.0</td>\n",
       "      <td>23.230</td>\n",
       "      <td>23.230000</td>\n",
       "      <td>20.730000</td>\n",
       "      <td>22.850000</td>\n",
       "    </tr>\n",
       "    <tr>\n",
       "      <th>2</th>\n",
       "      <td>737507.0</td>\n",
       "      <td>21.275</td>\n",
       "      <td>21.770000</td>\n",
       "      <td>19.590000</td>\n",
       "      <td>19.590000</td>\n",
       "    </tr>\n",
       "    <tr>\n",
       "      <th>3</th>\n",
       "      <td>737517.0</td>\n",
       "      <td>18.500</td>\n",
       "      <td>21.620001</td>\n",
       "      <td>17.760000</td>\n",
       "      <td>21.620001</td>\n",
       "    </tr>\n",
       "    <tr>\n",
       "      <th>4</th>\n",
       "      <td>737527.0</td>\n",
       "      <td>21.010</td>\n",
       "      <td>21.719999</td>\n",
       "      <td>20.850000</td>\n",
       "      <td>21.530001</td>\n",
       "    </tr>\n",
       "  </tbody>\n",
       "</table>\n",
       "</div>"
      ],
      "text/plain": [
       "       Date    open       high        low      close\n",
       "0  737487.0  22.400  23.490000  22.040001  22.590000\n",
       "1  737497.0  23.230  23.230000  20.730000  22.850000\n",
       "2  737507.0  21.275  21.770000  19.590000  19.590000\n",
       "3  737517.0  18.500  21.620001  17.760000  21.620001\n",
       "4  737527.0  21.010  21.719999  20.850000  21.530001"
      ]
     },
     "execution_count": 27,
     "metadata": {},
     "output_type": "execute_result"
    }
   ],
   "source": [
    "df_ohlc_10.reset_index(inplace=True)\n",
    "df_ohlc_10.Date = df_ohlc_10.Date.map(mdates.date2num)\n",
    "df_ohlc_10.head()"
   ]
  },
  {
   "cell_type": "code",
   "execution_count": 28,
   "metadata": {},
   "outputs": [
    {
     "data": {
      "image/png": "[encoded data removed]",
      "text/plain": [
       "<Figure size 1080x720 with 1 Axes>"
      ]
     },
     "metadata": {
      "needs_background": "light"
     },
     "output_type": "display_data"
    }
   ],
   "source": [
    "# Create and visualize candlestick charts\n",
    "plt.figure(figsize=(15,10))\n",
    "\n",
    "ax1 = plt.subplot2grid((6,1), (0,0), rowspan=5, colspan=1)\n",
    "ax1.xaxis_date()\n",
    "candlestick_ohlc(ax1, df_ohlc_10.values, width=2, colorup='g')\n",
    "plt.title(\"10 DAYS OHLC CANDLESTICK\")\n",
    "plt.show()"
   ]
  },
  {
   "cell_type": "markdown",
   "metadata": {},
   "source": [
    "## Key Takeaways:-\n",
    "1. Every candlestick tells a story of the showdown between the bulls and the bears,buyers and sellers, supply and demand, fear and greed.\n",
    "2. The candlesticks indicates a bullish pattern. This means that overally, the stocks are likely to increase.There are more greens than reds."
   ]
  }
 ],
 "metadata": {
  "kernelspec": {
   "display_name": "Python 3",
   "language": "python",
   "name": "python3"
  },
  "language_info": {
   "codemirror_mode": {
    "name": "ipython",
    "version": 3
   },
   "file_extension": ".py",
   "mimetype": "text/x-python",
   "name": "python",
   "nbconvert_exporter": "python",
   "pygments_lexer": "ipython3",
   "version": "3.7.6"
  }
 },
 "nbformat": 4,
 "nbformat_minor": 4
}
